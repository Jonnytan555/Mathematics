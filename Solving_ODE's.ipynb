{
  "nbformat": 4,
  "nbformat_minor": 0,
  "metadata": {
    "kernelspec": {
      "display_name": "Python 3",
      "language": "python",
      "name": "python3"
    },
    "language_info": {
      "codemirror_mode": {
        "name": "ipython",
        "version": 3
      },
      "file_extension": ".py",
      "mimetype": "text/x-python",
      "name": "python",
      "nbconvert_exporter": "python",
      "pygments_lexer": "ipython3",
      "version": "3.7.6"
    },
    "colab": {
      "name": "Solving ODE's.ipynb",
      "provenance": [],
      "include_colab_link": true
    }
  },
  "cells": [
    {
      "cell_type": "markdown",
      "metadata": {
        "id": "view-in-github",
        "colab_type": "text"
      },
      "source": [
        "<a href=\"https://colab.research.google.com/github/Jonnytan555/Mathematics/blob/main/Solving_ODE's.ipynb\" target=\"_parent\"><img src=\"https://colab.research.google.com/assets/colab-badge.svg\" alt=\"Open In Colab\"/></a>"
      ]
    },
    {
      "cell_type": "markdown",
      "metadata": {
        "id": "9FSS2UX-TUIg"
      },
      "source": [
        "# Solving ODE's"
      ]
    },
    {
      "cell_type": "code",
      "metadata": {
        "id": "ZMS4ItBdTUIh"
      },
      "source": [
        "import numpy as np\n",
        "from scipy.integrate import odeint\n",
        "import matplotlib.pyplot as plt"
      ],
      "execution_count": null,
      "outputs": []
    },
    {
      "cell_type": "code",
      "metadata": {
        "id": "cVfH1_ADTUIh"
      },
      "source": [
        "#function that return dy/dt\n",
        "def model(y,t):\n",
        "    k = 0.3\n",
        "    dydt = -k * y\n",
        "    return dydt"
      ],
      "execution_count": null,
      "outputs": []
    },
    {
      "cell_type": "code",
      "metadata": {
        "id": "ccBxUdlYTUIh"
      },
      "source": [
        "#initial condition \n",
        "y0 = 5"
      ],
      "execution_count": null,
      "outputs": []
    },
    {
      "cell_type": "code",
      "metadata": {
        "id": "9-QKTXbeTUIh"
      },
      "source": [
        "#time points with linearly spaced points between start and finish\n",
        "t = np.linspace(0,20, 50) #start, finish, number of time points "
      ],
      "execution_count": null,
      "outputs": []
    },
    {
      "cell_type": "code",
      "metadata": {
        "id": "DWATV6xETUIh"
      },
      "source": [
        "#Solve ODE based on the 1. model 2. initial condition 3. Time step\n",
        "y = odeint(model, y0, t)"
      ],
      "execution_count": null,
      "outputs": []
    },
    {
      "cell_type": "code",
      "metadata": {
        "id": "j2AbKCefTUIh",
        "outputId": "9976fe2b-3519-4e9c-c0af-4adbd35bc3ab"
      },
      "source": [
        "#plot results \n",
        "plt.plot(t,y)\n",
        "plt.xlabel('time')\n",
        "plt.ylabel('y(t)')"
      ],
      "execution_count": null,
      "outputs": [
        {
          "output_type": "execute_result",
          "data": {
            "text/plain": [
              "Text(0, 0.5, 'y(t)')"
            ]
          },
          "metadata": {
            "tags": []
          },
          "execution_count": 6
        },
        {
          "output_type": "display_data",
          "data": {
            "image/png": "[encoded data removed]",
            "text/plain": [
              "<Figure size 432x288 with 1 Axes>"
            ]
          },
          "metadata": {
            "tags": [],
            "needs_background": "light"
          }
        }
      ]
    },
    {
      "cell_type": "markdown",
      "metadata": {
        "id": "rA4dVjY3TUIi"
      },
      "source": [
        "# With a variable value of k"
      ]
    },
    {
      "cell_type": "code",
      "metadata": {
        "id": "N6JaFAiQTUIi"
      },
      "source": [
        "#function that return dy/dt\n",
        "def model(y,t,k):\n",
        "    #k = 0.3 not used anymore, replaced with the variable k \n",
        "    dydt = -k * y\n",
        "    return dydt"
      ],
      "execution_count": null,
      "outputs": []
    },
    {
      "cell_type": "code",
      "metadata": {
        "id": "d0vYRMA3TUIi"
      },
      "source": [
        "#initial condition \n",
        "y0 = 5"
      ],
      "execution_count": null,
      "outputs": []
    },
    {
      "cell_type": "code",
      "metadata": {
        "id": "eXl6RQ1oTUIi"
      },
      "source": [
        "#time points with linearly spaced points between start and finish\n",
        "t = np.linspace(0,20, 50) #start, finish, number of time points "
      ],
      "execution_count": null,
      "outputs": []
    },
    {
      "cell_type": "code",
      "metadata": {
        "id": "yuuz2V2tTUIi"
      },
      "source": [
        "#Solve ODE based on the 1. model 2. initial condition 3. Time step\n",
        "#This time we want a varying value of k\n",
        "\n",
        "k = 0.1\n",
        "y1 = odeint(model, y0, t, args=(k,)) #tuple. Expecting multiple values but we only have 1"
      ],
      "execution_count": null,
      "outputs": []
    },
    {
      "cell_type": "code",
      "metadata": {
        "id": "tnhsd6KbTUIj"
      },
      "source": [
        "k = 0.2\n",
        "y2 = odeint(model, y0, t, args=(k,))"
      ],
      "execution_count": null,
      "outputs": []
    },
    {
      "cell_type": "code",
      "metadata": {
        "id": "90mHSPKTTUIj"
      },
      "source": [
        "k = 0.5\n",
        "y3 = odeint(model, y0, t, args=(k,))"
      ],
      "execution_count": null,
      "outputs": []
    },
    {
      "cell_type": "code",
      "metadata": {
        "id": "IqRaxwFbTUIj",
        "outputId": "f741dc16-ba6e-42fe-d313-39f54b3add05"
      },
      "source": [
        "plt.plot(t,y1, 'r-', linewidth=2,label='k=0.1')"
      ],
      "execution_count": null,
      "outputs": [
        {
          "output_type": "execute_result",
          "data": {
            "text/plain": [
              "[<matplotlib.lines.Line2D at 0x189b7f21b88>]"
            ]
          },
          "metadata": {
            "tags": []
          },
          "execution_count": 13
        },
        {
          "output_type": "display_data",
          "data": {
            "image/png": "[encoded data removed]",
            "text/plain": [
              "<Figure size 432x288 with 1 Axes>"
            ]
          },
          "metadata": {
            "tags": [],
            "needs_background": "light"
          }
        }
      ]
    },
    {
      "cell_type": "code",
      "metadata": {
        "id": "Kp1tJgflTUIj",
        "outputId": "960a2bbd-f93d-4994-b8dc-649798c3d523"
      },
      "source": [
        "#plot results \n",
        "plt.plot(t,y1, 'r-', linewidth=2,label='k=0.1')\n",
        "plt.plot(t,y2, 'b--', linewidth=2,label='k=0.2')\n",
        "plt.plot(t,y3, 'g:', linewidth=2,label='k=0.5')\n",
        "plt.xlabel('time')\n",
        "plt.ylabel('y(t)')\n",
        "plt.legend(loc='best')"
      ],
      "execution_count": null,
      "outputs": [
        {
          "output_type": "execute_result",
          "data": {
            "text/plain": [
              "<matplotlib.legend.Legend at 0x189b7fad308>"
            ]
          },
          "metadata": {
            "tags": []
          },
          "execution_count": 14
        },
        {
          "output_type": "display_data",
          "data": {
            "image/png": "[encoded data removed]",
            "text/plain": [
              "<Figure size 432x288 with 1 Axes>"
            ]
          },
          "metadata": {
            "tags": [],
            "needs_background": "light"
          }
        }
      ]
    },
    {
      "cell_type": "markdown",
      "metadata": {
        "id": "bElR7ZTDTUIj"
      },
      "source": [
        "# Example 1"
      ]
    },
    {
      "cell_type": "markdown",
      "metadata": {
        "id": "824T7ktATUIj"
      },
      "source": [
        ""
      ]
    },
    {
      "cell_type": "code",
      "metadata": {
        "id": "mBsDgup5TUIj"
      },
      "source": [
        "#function that return dy/dt\n",
        "def model(y,t):\n",
        "    if (t < 10.0):\n",
        "        u = 0.0\n",
        "    else:\n",
        "        u = 2.0 #result will step for 0 to 2.0\n",
        "    dydt = (-y + u)/5.0\n",
        "    return dydt"
      ],
      "execution_count": null,
      "outputs": []
    },
    {
      "cell_type": "code",
      "metadata": {
        "id": "GsREl3KQTUIj"
      },
      "source": [
        "#initial condition \n",
        "y0 = 1"
      ],
      "execution_count": null,
      "outputs": []
    },
    {
      "cell_type": "code",
      "metadata": {
        "id": "p7uvcYCnTUIj"
      },
      "source": [
        "#time points with linearly spaced points between start and finish\n",
        "t = np.linspace(0,35) #start, finish, number of time points "
      ],
      "execution_count": null,
      "outputs": []
    },
    {
      "cell_type": "code",
      "metadata": {
        "id": "Cp6GjGjJTUIj"
      },
      "source": [
        "#Solve ODE\n",
        "y = odeint(model, y0, t)"
      ],
      "execution_count": null,
      "outputs": []
    },
    {
      "cell_type": "code",
      "metadata": {
        "id": "T8JJnPu6TUIj",
        "outputId": "8583bcc6-0b52-49b1-968a-047a61223fba"
      },
      "source": [
        "#plot results \n",
        "plt.plot(t,y)\n",
        "plt.xlabel('time')\n",
        "plt.ylabel('y(t)')\n",
        "plt.title('ODE example')"
      ],
      "execution_count": null,
      "outputs": [
        {
          "output_type": "execute_result",
          "data": {
            "text/plain": [
              "Text(0.5, 1.0, 'ODE example')"
            ]
          },
          "metadata": {
            "tags": []
          },
          "execution_count": 19
        },
        {
          "output_type": "display_data",
          "data": {
            "image/png": "[encoded data removed]",
            "text/plain": [
              "<Figure size 432x288 with 1 Axes>"
            ]
          },
          "metadata": {
            "tags": [],
            "needs_background": "light"
          }
        }
      ]
    },
    {
      "cell_type": "code",
      "metadata": {
        "id": "3-UeGlO9TUIj"
      },
      "source": [
        "# Example 2"
      ],
      "execution_count": null,
      "outputs": []
    },
    {
      "cell_type": "code",
      "metadata": {
        "id": "mbICnzRmTUIj"
      },
      "source": [
        "#function that return dy/dt\n",
        "def model(z,t):\n",
        "    x = z[0] #first element of z\n",
        "    y = z[1] #second element of z\n",
        "    dxdt = 3.0 * np.exp(-t) #np exponential function \n",
        "    dydt = 3.0 - y\n",
        "    return [dxdt, dydt]"
      ],
      "execution_count": null,
      "outputs": []
    },
    {
      "cell_type": "code",
      "metadata": {
        "id": "a9SiXcYITUIj"
      },
      "source": [
        "#initial condition \n",
        "z0 = [0,0]\n",
        "\n",
        "#time points with linearly spaced points between start and finish\n",
        "t = np.linspace(0,10) #start, finish, number of time points "
      ],
      "execution_count": null,
      "outputs": []
    },
    {
      "cell_type": "code",
      "metadata": {
        "id": "wRXJtu3mTUIj"
      },
      "source": [
        "#Solve ODE\n",
        "z = odeint(model,z0,t)\n",
        "\n",
        "x = z[:,0]\n",
        "y = z[:,1]\n"
      ],
      "execution_count": null,
      "outputs": []
    },
    {
      "cell_type": "code",
      "metadata": {
        "id": "wX4lsr5mTUIj",
        "outputId": "a30f43d5-2b0e-4f07-c788-dc67b355280f"
      },
      "source": [
        "plt.plot(t,x, 'r-')\n",
        "plt.plot(t,y, 'b--')\n",
        "plt.xlabel('time')\n",
        "plt.legend(['x(t)','y(t)'], loc='best') #must be a list\n",
        "plt.title('ODE example 2')"
      ],
      "execution_count": null,
      "outputs": [
        {
          "output_type": "execute_result",
          "data": {
            "text/plain": [
              "Text(0.5, 1.0, 'ODE example 2')"
            ]
          },
          "metadata": {
            "tags": []
          },
          "execution_count": 24
        },
        {
          "output_type": "display_data",
          "data": {
            "image/png": "[encoded data removed]",
            "text/plain": [
              "<Figure size 432x288 with 1 Axes>"
            ]
          },
          "metadata": {
            "tags": [],
            "needs_background": "light"
          }
        }
      ]
    },
    {
      "cell_type": "code",
      "metadata": {
        "id": "zBXBzyuATUIj"
      },
      "source": [
        "# Example 3 alternative "
      ],
      "execution_count": null,
      "outputs": []
    },
    {
      "cell_type": "code",
      "metadata": {
        "id": "ZgzwqAGPTUIj",
        "outputId": "cfbe3765-fc3e-482c-953c-9e38420d1503"
      },
      "source": [
        "import numpy as np\n",
        "from scipy.integrate import odeint\n",
        "import matplotlib.pyplot as plt\n",
        "\n",
        "# function that returns dz/dt\n",
        "def model(z,t):\n",
        "    dxdt = 3.0 * np.exp(-t)\n",
        "    dydt = -z[1] + 3\n",
        "    dzdt = [dxdt,dydt]\n",
        "    return dzdt\n",
        "\n",
        "# initial condition\n",
        "z0 = [0,0]\n",
        "\n",
        "# time points\n",
        "t = np.linspace(0,5)\n",
        "\n",
        "# solve ODE\n",
        "z = odeint(model,z0,t)\n",
        "\n",
        "# plot results\n",
        "plt.plot(t,z[:,0],'b-',label=r'$\\frac{dx}{dt}=3 \\; \\exp(-t)$')\n",
        "plt.plot(t,z[:,1],'r--',label=r'$\\frac{dy}{dt}=-y+3$')\n",
        "plt.ylabel('response')\n",
        "plt.xlabel('time')\n",
        "plt.legend(loc='best')\n",
        "plt.show()"
      ],
      "execution_count": null,
      "outputs": [
        {
          "output_type": "display_data",
          "data": {
            "image/png": "[encoded data removed]",
            "text/plain": [
              "<Figure size 432x288 with 1 Axes>"
            ]
          },
          "metadata": {
            "tags": [],
            "needs_background": "light"
          }
        }
      ]
    },
    {
      "cell_type": "code",
      "metadata": {
        "id": "dHnbollvTUIj"
      },
      "source": [
        "# Example 3"
      ],
      "execution_count": null,
      "outputs": []
    },
    {
      "cell_type": "code",
      "metadata": {
        "id": "YMQ5N0YMTUIj"
      },
      "source": [
        "#function that return dy/dt\n",
        "def model(z,t,u): #time step so use u\n",
        "    x = z[0]\n",
        "    y = z[1]\n",
        "    dxdt = (-x+u)/2.0\n",
        "    dydt = (-y+u)/5.0\n",
        "    return [dxdt, dydt]"
      ],
      "execution_count": null,
      "outputs": []
    },
    {
      "cell_type": "code",
      "metadata": {
        "id": "gcnlcA0uTUIj"
      },
      "source": [
        "#initial condition \n",
        "z0 = [0,0]\n",
        "\n",
        "#time points with linearly spaced points between start and finish\n",
        "n = 150\n",
        "t = np.linspace(0,15, n) #start, finish, number of time points \n",
        "u = np.zeros(n)\n",
        "u[51:] = 2.0"
      ],
      "execution_count": null,
      "outputs": []
    },
    {
      "cell_type": "code",
      "metadata": {
        "id": "b160EunATUIk"
      },
      "source": [
        "x = np.zeros(n)\n",
        "y = np.zeros(n)"
      ],
      "execution_count": null,
      "outputs": []
    },
    {
      "cell_type": "code",
      "metadata": {
        "id": "spRpeMaGTUIk"
      },
      "source": [
        "#solve ode\n",
        "for i in range(1,n):\n",
        "    tspan = [t[i-1],t[i]]\n",
        "    z = odeint(model, z0, t, args=(u[i],))\n",
        "    z0 = z[1]\n",
        "    x[i] = z0[0]\n",
        "    y[i] = z0[1]"
      ],
      "execution_count": null,
      "outputs": []
    },
    {
      "cell_type": "code",
      "metadata": {
        "id": "_z61nJIFTUIk",
        "outputId": "69a2f040-a550-44e3-ff56-8ad1d78b25d6"
      },
      "source": [
        "tspan"
      ],
      "execution_count": null,
      "outputs": [
        {
          "output_type": "execute_result",
          "data": {
            "text/plain": [
              "[14.899328859060402, 15.0]"
            ]
          },
          "metadata": {
            "tags": []
          },
          "execution_count": 32
        }
      ]
    },
    {
      "cell_type": "code",
      "metadata": {
        "id": "0usWwBGBTUIk",
        "outputId": "fea200ae-e3c9-4c45-8760-92ecd6adf467"
      },
      "source": [
        "z0 #initial value of x and y"
      ],
      "execution_count": null,
      "outputs": [
        {
          "output_type": "execute_result",
          "data": {
            "text/plain": [
              "array([1.98629665, 1.72750746])"
            ]
          },
          "metadata": {
            "tags": []
          },
          "execution_count": 33
        }
      ]
    },
    {
      "cell_type": "code",
      "metadata": {
        "id": "OOCh3kHkTUIk",
        "outputId": "b388fd4b-21b5-4b50-887e-3d184b6d9e34"
      },
      "source": [
        "x"
      ],
      "execution_count": null,
      "outputs": [
        {
          "output_type": "execute_result",
          "data": {
            "text/plain": [
              "array([0.        , 0.        , 0.        , 0.        , 0.        ,\n",
              "       0.        , 0.        , 0.        , 0.        , 0.        ,\n",
              "       0.        , 0.        , 0.        , 0.        , 0.        ,\n",
              "       0.        , 0.        , 0.        , 0.        , 0.        ,\n",
              "       0.        , 0.        , 0.        , 0.        , 0.        ,\n",
              "       0.        , 0.        , 0.        , 0.        , 0.        ,\n",
              "       0.        , 0.        , 0.        , 0.        , 0.        ,\n",
              "       0.        , 0.        , 0.        , 0.        , 0.        ,\n",
              "       0.        , 0.        , 0.        , 0.        , 0.        ,\n",
              "       0.        , 0.        , 0.        , 0.        , 0.        ,\n",
              "       0.        , 0.09817944, 0.19153927, 0.2803161 , 0.3647349 ,\n",
              "       0.44500959, 0.52134362, 0.59393044, 0.66295398, 0.72858918,\n",
              "       0.79100237, 0.85035171, 0.9067876 , 0.96045308, 1.01148412,\n",
              "       1.06001007, 1.1061539 , 1.15003253, 1.19175717, 1.23143357,\n",
              "       1.26916226, 1.30503885, 1.33915428, 1.37159499, 1.40244319,\n",
              "       1.43177707, 1.45967095, 1.48619553, 1.51141802, 1.53540235,\n",
              "       1.5582093 , 1.57989665, 1.60051939, 1.62012976, 1.63877746,\n",
              "       1.65650975, 1.67337156, 1.68940564, 1.70465261, 1.71915111,\n",
              "       1.73293788, 1.74604786, 1.75851428, 1.77036872, 1.78164124,\n",
              "       1.79236039, 1.80255335, 1.81224594, 1.82146271, 1.83022704,\n",
              "       1.83856114, 1.84648612, 1.85402207, 1.86118808, 1.86800232,\n",
              "       1.87448206, 1.88064371, 1.88650289, 1.89207444, 1.8973725 ,\n",
              "       1.90241047, 1.90720114, 1.91175664, 1.91608851, 1.92020773,\n",
              "       1.92412474, 1.92784947, 1.93139136, 1.93475937, 1.93796206,\n",
              "       1.94100752, 1.94390349, 1.94665729, 1.94927592, 1.95176599,\n",
              "       1.95413383, 1.95638543, 1.9585265 , 1.96056247, 1.96249849,\n",
              "       1.96433948, 1.96609009, 1.96775476, 1.96933771, 1.97084296,\n",
              "       1.97227431, 1.9736354 , 1.97492967, 1.9761604 , 1.97733071,\n",
              "       1.97844358, 1.97950181, 1.98050809, 1.98146497, 1.98237487,\n",
              "       1.98324011, 1.98406287, 1.98484524, 1.98558921, 1.98629665])"
            ]
          },
          "metadata": {
            "tags": []
          },
          "execution_count": 34
        }
      ]
    },
    {
      "cell_type": "code",
      "metadata": {
        "id": "gFiuyJQRTUIk",
        "outputId": "c940eab9-9ff8-4753-f203-6ddbb3477c6d"
      },
      "source": [
        "y"
      ],
      "execution_count": null,
      "outputs": [
        {
          "output_type": "execute_result",
          "data": {
            "text/plain": [
              "array([0.        , 0.        , 0.        , 0.        , 0.        ,\n",
              "       0.        , 0.        , 0.        , 0.        , 0.        ,\n",
              "       0.        , 0.        , 0.        , 0.        , 0.        ,\n",
              "       0.        , 0.        , 0.        , 0.        , 0.        ,\n",
              "       0.        , 0.        , 0.        , 0.        , 0.        ,\n",
              "       0.        , 0.        , 0.        , 0.        , 0.        ,\n",
              "       0.        , 0.        , 0.        , 0.        , 0.        ,\n",
              "       0.        , 0.        , 0.        , 0.        , 0.        ,\n",
              "       0.        , 0.        , 0.        , 0.        , 0.        ,\n",
              "       0.        , 0.        , 0.        , 0.        , 0.        ,\n",
              "       0.        , 0.03986578, 0.07893691, 0.11722925, 0.1547583 ,\n",
              "       0.1915393 , 0.22758714, 0.26291645, 0.29754154, 0.33147645,\n",
              "       0.36473494, 0.3973305 , 0.42927633, 0.46058538, 0.49127036,\n",
              "       0.5213437 , 0.55081759, 0.57970397, 0.60801457, 0.63576086,\n",
              "       0.66295408, 0.68960527, 0.71572522, 0.74132452, 0.76641355,\n",
              "       0.79100249, 0.8151013 , 0.83871975, 0.86186742, 0.88455368,\n",
              "       0.90678775, 0.92857862, 0.94993514, 0.97086596, 0.99137957,\n",
              "       1.01148428, 1.03118825, 1.05049946, 1.06942575, 1.08797478,\n",
              "       1.10615407, 1.123971  , 1.14143278, 1.1585465 , 1.17531909,\n",
              "       1.19175736, 1.20786797, 1.22365745, 1.23913219, 1.25429848,\n",
              "       1.26916246, 1.28373016, 1.29800749, 1.31200023, 1.32571405,\n",
              "       1.33915452, 1.35232708, 1.36523708, 1.37788974, 1.39029021,\n",
              "       1.40244349, 1.41435453, 1.42602815, 1.43746907, 1.44868195,\n",
              "       1.45967133, 1.47044166, 1.4809973 , 1.49134254, 1.50148158,\n",
              "       1.51141851, 1.52115737, 1.53070211, 1.5400566 , 1.54922463,\n",
              "       1.55820991, 1.56701609, 1.57564674, 1.58410536, 1.59239537,\n",
              "       1.60052014, 1.60848296, 1.61628706, 1.6239356 , 1.63143168,\n",
              "       1.63877835, 1.64597857, 1.65303528, 1.65995132, 1.6667295 ,\n",
              "       1.67337258, 1.67988324, 1.68626412, 1.69251781, 1.69864685,\n",
              "       1.70465372, 1.71054085, 1.71631063, 1.72196541, 1.72750746])"
            ]
          },
          "metadata": {
            "tags": []
          },
          "execution_count": 35
        }
      ]
    },
    {
      "cell_type": "code",
      "metadata": {
        "id": "dlA9INyiTUIk",
        "outputId": "6bf08430-d2e4-4ae3-bbdf-39fa7d92b6b0"
      },
      "source": [
        "plt.plot(t,u, 'k')\n",
        "plt.plot(t,x, 'g-')\n",
        "plt.plot(t,y, 'b--')\n",
        "plt.xlabel('time')\n",
        "plt.legend(['u(t)','x(t)','y(t)'], loc='best') #must be a list\n",
        "plt.title('ODE example 2')"
      ],
      "execution_count": null,
      "outputs": [
        {
          "output_type": "execute_result",
          "data": {
            "text/plain": [
              "Text(0.5, 1.0, 'ODE example 2')"
            ]
          },
          "metadata": {
            "tags": []
          },
          "execution_count": 36
        },
        {
          "output_type": "display_data",
          "data": {
            "image/png": "[encoded data removed]",
            "text/plain": [
              "<Figure size 432x288 with 1 Axes>"
            ]
          },
          "metadata": {
            "tags": [],
            "needs_background": "light"
          }
        }
      ]
    },
    {
      "cell_type": "code",
      "metadata": {
        "id": "IMml3CR7VN5N"
      },
      "source": [
        ""
      ],
      "execution_count": null,
      "outputs": []
    },
    {
      "cell_type": "markdown",
      "metadata": {
        "id": "-e-IKLJUTUIk"
      },
      "source": [
        "# HIV Simulation"
      ]
    },
    {
      "cell_type": "code",
      "metadata": {
        "id": "EnbrrAl0TUIk"
      },
      "source": [
        "import numpy as np\n",
        "from scipy.integrate import odeint\n",
        "import matplotlib.pyplot as plt"
      ],
      "execution_count": null,
      "outputs": []
    },
    {
      "cell_type": "code",
      "metadata": {
        "id": "MRK2WhIfTUIk"
      },
      "source": [
        "#Know initial conditions \n",
        "\n",
        "#h = 1e6 -- heathly cells\n",
        "#i = 0 -- Infected cells\n",
        "#v = 100 - virus"
      ],
      "execution_count": null,
      "outputs": []
    },
    {
      "cell_type": "code",
      "metadata": {
        "id": "WC523TNrTUIk"
      },
      "source": [
        "# a function defining the spread of hiv\n",
        "\n",
        "def hiv(x,t):\n",
        "    \n",
        "    #define paraemters \n",
        "    \n",
        "    kr1 = 1e5 #heathly new cells per year\n",
        "    kr2 = 0.1 #death rate of healthy cells\n",
        "    kr3 = 2e-7 #healthy cells converting to infected cells\n",
        "    kr4 = 0.5 #death rate of infected cells\n",
        "    kr5 = 5 #death rate of virus\n",
        "    kr6 = 100 #production of virus by infected cells\n",
        "    \n",
        "    #define differential equations\n",
        "    h = x[0]\n",
        "    i = x[1]\n",
        "    v = x[2]\n",
        "    \n",
        "    p = kr3*h*v #common term\n",
        "    dhdt = kr1 - kr2 * h - p\n",
        "    didt = p - kr4*i\n",
        "    dvdt = -p - kr5*v + kr6*i\n",
        "    \n",
        "    return [dhdt,didt,dvdt]"
      ],
      "execution_count": null,
      "outputs": []
    },
    {
      "cell_type": "code",
      "metadata": {
        "id": "SNqBzjNHTUIk",
        "outputId": "64bff21e-76e8-4f34-c3a1-0dde9539945b"
      },
      "source": [
        "hiv([1e6, 0, 100], 0) #these are initial conditions. x[0] = h x[1] = i x[2] = v where t = 0."
      ],
      "execution_count": null,
      "outputs": [
        {
          "output_type": "execute_result",
          "data": {
            "text/plain": [
              "[-20.0, 20.0, -520.0]"
            ]
          },
          "metadata": {
            "tags": []
          },
          "execution_count": 40
        }
      ]
    },
    {
      "cell_type": "code",
      "metadata": {
        "id": "jT3rulYETUIk"
      },
      "source": [
        "#dhdt , healthy cells decrease by a rate of 20 each year \n",
        "#dhdt , infected cells increase by a rate of 20 each year \n",
        "#dvdt , virus cells decrease by a rate of 520 each year "
      ],
      "execution_count": null,
      "outputs": []
    },
    {
      "cell_type": "code",
      "metadata": {
        "id": "usWKHSSETUIk",
        "outputId": "58fb9eaf-bdb1-4aaf-dea7-a2c65a63dd85"
      },
      "source": [
        "help(odeint)"
      ],
      "execution_count": null,
      "outputs": [
        {
          "output_type": "stream",
          "text": [
            "Help on function odeint in module scipy.integrate.odepack:\n",
            "\n",
            "odeint(func, y0, t, args=(), Dfun=None, col_deriv=0, full_output=0, ml=None, mu=None, rtol=None, atol=None, tcrit=None, h0=0.0, hmax=0.0, hmin=0.0, ixpr=0, mxstep=0, mxhnil=0, mxordn=12, mxords=5, printmessg=0, tfirst=False)\n",
            "    Integrate a system of ordinary differential equations.\n",
            "    \n",
            "    .. note:: For new code, use `scipy.integrate.solve_ivp` to solve a\n",
            "              differential equation.\n",
            "    \n",
            "    Solve a system of ordinary differential equations using lsoda from the\n",
            "    FORTRAN library odepack.\n",
            "    \n",
            "    Solves the initial value problem for stiff or non-stiff systems\n",
            "    of first order ode-s::\n",
            "    \n",
            "        dy/dt = func(y, t, ...)  [or func(t, y, ...)]\n",
            "    \n",
            "    where y can be a vector.\n",
            "    \n",
            "    .. note:: By default, the required order of the first two arguments of\n",
            "              `func` are in the opposite order of the arguments in the system\n",
            "              definition function used by the `scipy.integrate.ode` class and\n",
            "              the function `scipy.integrate.solve_ivp`.  To use a function with\n",
            "              the signature ``func(t, y, ...)``, the argument `tfirst` must be\n",
            "              set to ``True``.\n",
            "    \n",
            "    Parameters\n",
            "    ----------\n",
            "    func : callable(y, t, ...) or callable(t, y, ...)\n",
            "        Computes the derivative of y at t.\n",
            "        If the signature is ``callable(t, y, ...)``, then the argument\n",
            "        `tfirst` must be set ``True``.\n",
            "    y0 : array\n",
            "        Initial condition on y (can be a vector).\n",
            "    t : array\n",
            "        A sequence of time points for which to solve for y.  The initial\n",
            "        value point should be the first element of this sequence.\n",
            "        This sequence must be monotonically increasing or monotonically\n",
            "        decreasing; repeated values are allowed.\n",
            "    args : tuple, optional\n",
            "        Extra arguments to pass to function.\n",
            "    Dfun : callable(y, t, ...) or callable(t, y, ...)\n",
            "        Gradient (Jacobian) of `func`.\n",
            "        If the signature is ``callable(t, y, ...)``, then the argument\n",
            "        `tfirst` must be set ``True``.\n",
            "    col_deriv : bool, optional\n",
            "        True if `Dfun` defines derivatives down columns (faster),\n",
            "        otherwise `Dfun` should define derivatives across rows.\n",
            "    full_output : bool, optional\n",
            "        True if to return a dictionary of optional outputs as the second output\n",
            "    printmessg : bool, optional\n",
            "        Whether to print the convergence message\n",
            "    tfirst: bool, optional\n",
            "        If True, the first two arguments of `func` (and `Dfun`, if given)\n",
            "        must ``t, y`` instead of the default ``y, t``.\n",
            "    \n",
            "        .. versionadded:: 1.1.0\n",
            "    \n",
            "    Returns\n",
            "    -------\n",
            "    y : array, shape (len(t), len(y0))\n",
            "        Array containing the value of y for each desired time in t,\n",
            "        with the initial value `y0` in the first row.\n",
            "    infodict : dict, only returned if full_output == True\n",
            "        Dictionary containing additional output information\n",
            "    \n",
            "        =======  ============================================================\n",
            "        key      meaning\n",
            "        =======  ============================================================\n",
            "        'hu'     vector of step sizes successfully used for each time step.\n",
            "        'tcur'   vector with the value of t reached for each time step.\n",
            "                 (will always be at least as large as the input times).\n",
            "        'tolsf'  vector of tolerance scale factors, greater than 1.0,\n",
            "                 computed when a request for too much accuracy was detected.\n",
            "        'tsw'    value of t at the time of the last method switch\n",
            "                 (given for each time step)\n",
            "        'nst'    cumulative number of time steps\n",
            "        'nfe'    cumulative number of function evaluations for each time step\n",
            "        'nje'    cumulative number of jacobian evaluations for each time step\n",
            "        'nqu'    a vector of method orders for each successful step.\n",
            "        'imxer'  index of the component of largest magnitude in the\n",
            "                 weighted local error vector (e / ewt) on an error return, -1\n",
            "                 otherwise.\n",
            "        'lenrw'  the length of the double work array required.\n",
            "        'leniw'  the length of integer work array required.\n",
            "        'mused'  a vector of method indicators for each successful time step:\n",
            "                 1: adams (nonstiff), 2: bdf (stiff)\n",
            "        =======  ============================================================\n",
            "    \n",
            "    Other Parameters\n",
            "    ----------------\n",
            "    ml, mu : int, optional\n",
            "        If either of these are not None or non-negative, then the\n",
            "        Jacobian is assumed to be banded.  These give the number of\n",
            "        lower and upper non-zero diagonals in this banded matrix.\n",
            "        For the banded case, `Dfun` should return a matrix whose\n",
            "        rows contain the non-zero bands (starting with the lowest diagonal).\n",
            "        Thus, the return matrix `jac` from `Dfun` should have shape\n",
            "        ``(ml + mu + 1, len(y0))`` when ``ml >=0`` or ``mu >=0``.\n",
            "        The data in `jac` must be stored such that ``jac[i - j + mu, j]``\n",
            "        holds the derivative of the `i`th equation with respect to the `j`th\n",
            "        state variable.  If `col_deriv` is True, the transpose of this\n",
            "        `jac` must be returned.\n",
            "    rtol, atol : float, optional\n",
            "        The input parameters `rtol` and `atol` determine the error\n",
            "        control performed by the solver.  The solver will control the\n",
            "        vector, e, of estimated local errors in y, according to an\n",
            "        inequality of the form ``max-norm of (e / ewt) <= 1``,\n",
            "        where ewt is a vector of positive error weights computed as\n",
            "        ``ewt = rtol * abs(y) + atol``.\n",
            "        rtol and atol can be either vectors the same length as y or scalars.\n",
            "        Defaults to 1.49012e-8.\n",
            "    tcrit : ndarray, optional\n",
            "        Vector of critical points (e.g. singularities) where integration\n",
            "        care should be taken.\n",
            "    h0 : float, (0: solver-determined), optional\n",
            "        The step size to be attempted on the first step.\n",
            "    hmax : float, (0: solver-determined), optional\n",
            "        The maximum absolute step size allowed.\n",
            "    hmin : float, (0: solver-determined), optional\n",
            "        The minimum absolute step size allowed.\n",
            "    ixpr : bool, optional\n",
            "        Whether to generate extra printing at method switches.\n",
            "    mxstep : int, (0: solver-determined), optional\n",
            "        Maximum number of (internally defined) steps allowed for each\n",
            "        integration point in t.\n",
            "    mxhnil : int, (0: solver-determined), optional\n",
            "        Maximum number of messages printed.\n",
            "    mxordn : int, (0: solver-determined), optional\n",
            "        Maximum order to be allowed for the non-stiff (Adams) method.\n",
            "    mxords : int, (0: solver-determined), optional\n",
            "        Maximum order to be allowed for the stiff (BDF) method.\n",
            "    \n",
            "    See Also\n",
            "    --------\n",
            "    solve_ivp : Solve an initial value problem for a system of ODEs.\n",
            "    ode : a more object-oriented integrator based on VODE.\n",
            "    quad : for finding the area under a curve.\n",
            "    \n",
            "    Examples\n",
            "    --------\n",
            "    The second order differential equation for the angle `theta` of a\n",
            "    pendulum acted on by gravity with friction can be written::\n",
            "    \n",
            "        theta''(t) + b*theta'(t) + c*sin(theta(t)) = 0\n",
            "    \n",
            "    where `b` and `c` are positive constants, and a prime (') denotes a\n",
            "    derivative.  To solve this equation with `odeint`, we must first convert\n",
            "    it to a system of first order equations.  By defining the angular\n",
            "    velocity ``omega(t) = theta'(t)``, we obtain the system::\n",
            "    \n",
            "        theta'(t) = omega(t)\n",
            "        omega'(t) = -b*omega(t) - c*sin(theta(t))\n",
            "    \n",
            "    Let `y` be the vector [`theta`, `omega`].  We implement this system\n",
            "    in python as:\n",
            "    \n",
            "    >>> def pend(y, t, b, c):\n",
            "    ...     theta, omega = y\n",
            "    ...     dydt = [omega, -b*omega - c*np.sin(theta)]\n",
            "    ...     return dydt\n",
            "    ...\n",
            "    \n",
            "    We assume the constants are `b` = 0.25 and `c` = 5.0:\n",
            "    \n",
            "    >>> b = 0.25\n",
            "    >>> c = 5.0\n",
            "    \n",
            "    For initial conditions, we assume the pendulum is nearly vertical\n",
            "    with `theta(0)` = `pi` - 0.1, and is initially at rest, so\n",
            "    `omega(0)` = 0.  Then the vector of initial conditions is\n",
            "    \n",
            "    >>> y0 = [np.pi - 0.1, 0.0]\n",
            "    \n",
            "    We will generate a solution at 101 evenly spaced samples in the interval\n",
            "    0 <= `t` <= 10.  So our array of times is:\n",
            "    \n",
            "    >>> t = np.linspace(0, 10, 101)\n",
            "    \n",
            "    Call `odeint` to generate the solution.  To pass the parameters\n",
            "    `b` and `c` to `pend`, we give them to `odeint` using the `args`\n",
            "    argument.\n",
            "    \n",
            "    >>> from scipy.integrate import odeint\n",
            "    >>> sol = odeint(pend, y0, t, args=(b, c))\n",
            "    \n",
            "    The solution is an array with shape (101, 2).  The first column\n",
            "    is `theta(t)`, and the second is `omega(t)`.  The following code\n",
            "    plots both components.\n",
            "    \n",
            "    >>> import matplotlib.pyplot as plt\n",
            "    >>> plt.plot(t, sol[:, 0], 'b', label='theta(t)')\n",
            "    >>> plt.plot(t, sol[:, 1], 'g', label='omega(t)')\n",
            "    >>> plt.legend(loc='best')\n",
            "    >>> plt.xlabel('t')\n",
            "    >>> plt.grid()\n",
            "    >>> plt.show()\n",
            "\n"
          ],
          "name": "stdout"
        }
      ]
    },
    {
      "cell_type": "code",
      "metadata": {
        "id": "ydMD1nU1TUIk"
      },
      "source": [
        "x0 = [1e6,0,100]\n",
        "t = np.linspace(0,15,1000) #0 to 15 with 1000 spaces\n",
        "x = odeint(hiv,x0,t) #funtcion, iniitial condition, t"
      ],
      "execution_count": null,
      "outputs": []
    },
    {
      "cell_type": "code",
      "metadata": {
        "id": "_3yRGZwRTUIk"
      },
      "source": [
        "h = x[:,0] #: is all values of t\n",
        "i = x[:,1]\n",
        "v = x[:,2]"
      ],
      "execution_count": null,
      "outputs": []
    },
    {
      "cell_type": "code",
      "metadata": {
        "id": "xWQr0nmxTUIk",
        "outputId": "8bca211f-36d2-4fec-c0b5-80df0754ee1e"
      },
      "source": [
        "plt.semilogy(t,h, 'b-')\n",
        "plt.semilogy(t,i, 'g--')\n",
        "plt.semilogy(t,v,'r')\n",
        "plt.xlabel('Time')\n",
        "plt.ylabel('States (Log Scale)')\n",
        "plt.legend(['h','i','v'], loc='best')\n",
        "plt.title('HIV spread over time')"
      ],
      "execution_count": null,
      "outputs": [
        {
          "output_type": "execute_result",
          "data": {
            "text/plain": [
              "Text(0.5, 1.0, 'HIV spread over time')"
            ]
          },
          "metadata": {
            "tags": []
          },
          "execution_count": 45
        },
        {
          "output_type": "display_data",
          "data": {
            "image/png": "[encoded data removed]",
            "text/plain": [
              "<Figure size 432x288 with 1 Axes>"
            ]
          },
          "metadata": {
            "tags": [],
            "needs_background": "light"
          }
        }
      ]
    },
    {
      "cell_type": "code",
      "metadata": {
        "id": "iNw4jFCuTUIk"
      },
      "source": [
        "#Q. Discsuss how you would adjust to match the HIV lab data that measures the virus in a patient\n",
        "\n",
        "# You would alter the values of your constants so that the distribution follows the measured data more clearly"
      ],
      "execution_count": null,
      "outputs": []
    },
    {
      "cell_type": "code",
      "metadata": {
        "id": "4QP1cniVTUIl"
      },
      "source": [
        "#Q. Suppose that a new antietrovial drug is evaluated in clinical trials. \n",
        "#Virus count data is collected over many years to control HV infection.  \n",
        "#Discuss what terms count be added to the differential equations to include the effect of the antiretrovial drug\n",
        "\n",
        "#the drug binds to the virus and makes it less effctive. in V may have a new contsant kr7 and A*v. -kr7*A. \n",
        "#It would decrease the amount of virus in the system. "
      ],
      "execution_count": null,
      "outputs": []
    },
    {
      "cell_type": "code",
      "metadata": {
        "id": "JlpBaMuYTUIl"
      },
      "source": [
        "# a function defining the spread of hiv\n",
        "\n",
        "def hiv_cure(x,t):\n",
        "    \n",
        "    #define paraemters \n",
        "    \n",
        "    kr1 = 1e5 #heathly new cells per year\n",
        "    kr2 = 0.1 #death rate of healthy cells\n",
        "    kr3 = 2e-7 #healthy cells converting to infected cells\n",
        "    kr4 = 0.5 #death rate of infected cells\n",
        "    kr5 = 5 #death rate of virus\n",
        "    kr6 = 100 #production of virus by infected cells\n",
        "    kr7 = 1.0 # new constant for added drug\n",
        "    \n",
        "    if t>3.0:\n",
        "        A = 100\n",
        "    else:\n",
        "        A = 0.0\n",
        "    \n",
        "    #define differential equations\n",
        "    h = x[0]\n",
        "    i = x[1]\n",
        "    v = x[2]\n",
        "    \n",
        "    p = kr3*h*v #common term\n",
        "    dhdt = kr1 - kr2 * h - p\n",
        "    didt = p - kr4*i\n",
        "    dvdt = -p - kr5*v + kr6*i - kr7 * A*v\n",
        "    \n",
        "    return [dhdt,didt,dvdt]"
      ],
      "execution_count": null,
      "outputs": []
    },
    {
      "cell_type": "code",
      "metadata": {
        "id": "xXu0et_mTUIl"
      },
      "source": [
        "x0 = [1e6,0,100]\n",
        "t = np.linspace(0,15,1000) #0 to 15 with 1000 spaces\n",
        "x = odeint(hiv_cure,x0,t) #funtcion, iniitial condition, t"
      ],
      "execution_count": null,
      "outputs": []
    },
    {
      "cell_type": "code",
      "metadata": {
        "id": "NPTs1XKcTUIl",
        "outputId": "503270c7-58e3-48ff-8260-55d2f56f92a4"
      },
      "source": [
        "plt.semilogy(t,h, 'b-')\n",
        "plt.semilogy(t,i, 'g--')\n",
        "plt.semilogy(t,v,'r')\n",
        "plt.xlabel('Time')\n",
        "plt.ylabel('States (Log Scale)')\n",
        "plt.legend(['h','i','v'], loc='best')\n",
        "plt.title('HIV spread over time')"
      ],
      "execution_count": null,
      "outputs": [
        {
          "output_type": "execute_result",
          "data": {
            "text/plain": [
              "Text(0.5, 1.0, 'HIV spread over time')"
            ]
          },
          "metadata": {
            "tags": []
          },
          "execution_count": 53
        },
        {
          "output_type": "display_data",
          "data": {
            "image/png": "[encoded data removed]",
            "text/plain": [
              "<Figure size 432x288 with 1 Axes>"
            ]
          },
          "metadata": {
            "tags": [],
            "needs_background": "light"
          }
        }
      ]
    },
    {
      "cell_type": "code",
      "metadata": {
        "id": "PCfen7UzTUIl"
      },
      "source": [
        ""
      ],
      "execution_count": null,
      "outputs": []
    }
  ]
}